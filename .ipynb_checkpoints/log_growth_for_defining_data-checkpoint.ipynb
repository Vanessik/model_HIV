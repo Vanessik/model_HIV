{
 "cells": [
  {
   "cell_type": "markdown",
   "metadata": {},
   "source": [
    "# Model logistic growth"
   ]
  },
  {
   "cell_type": "code",
   "execution_count": 18,
   "metadata": {},
   "outputs": [],
   "source": [
    "import numpy as np\n",
    "import pandas as pd\n",
    "%matplotlib inline\n",
    "import matplotlib.pyplot as plt\n",
    "from scipy.integrate import odeint\n",
    "import ipywidgets as wg\n",
    "from IPython.display import display\n",
    "from scipy.integrate import odeint\n",
    "from scipy.optimize import minimize\n",
    "from scipy.optimize import curve_fit\n",
    "from scipy import stats\n",
    "import numpy as np\n",
    "import pandas as pd\n",
    "import tclab\n",
    "import time\n",
    "import os.path\n",
    "import math"
   ]
  },
  {
   "cell_type": "code",
   "execution_count": 19,
   "metadata": {},
   "outputs": [],
   "source": [
    "virus=pd.read_excel('data_app_new.xlsx') "
   ]
  },
  {
   "cell_type": "code",
   "execution_count": 20,
   "metadata": {},
   "outputs": [],
   "source": [
    "def log_growth(y, t,  K, b):\n",
    "    dydt = b*y*(1-y/K)\n",
    "    return dydt"
   ]
  },
  {
   "cell_type": "code",
   "execution_count": 21,
   "metadata": {},
   "outputs": [],
   "source": [
    "def sim_model(x):\n",
    "    K, b, t_0 =x\n",
    "    t=[TP[0]]+[i+math.ceil(abs(t_0)) for i in TP[1:3]]\n",
    "    V_sol=[]\n",
    "    for i in range(0,n-1):\n",
    "        a=t[i]\n",
    "        c=t[i+1]\n",
    "        ts=np.linspace(a,c,c-a+1)\n",
    "        inputs = (K, b)\n",
    "        y = odeint(log_growth,Vp[i],ts,args=inputs)  \n",
    "        Vp[i+1] = y[-1,0]\n",
    "        V_sol+=list(y[:,0][:-1])\n",
    "\n",
    "    V_sol+=[y[:,0][-1]]\n",
    "    return Vp , V_sol  \n",
    "\n",
    "def objective(x):\n",
    "        # simulate model\n",
    "    Vp, V_sol = sim_model(x)\n",
    "    # return objective\n",
    "    return (np.sum(np.power(np.log(Vp)-np.log(V), 2)))"
   ]
  },
  {
   "cell_type": "code",
   "execution_count": 22,
   "metadata": {},
   "outputs": [
    {
     "name": "stdout",
     "output_type": "stream",
     "text": [
      "Initial SSE Objective: 150.7843991022948\n",
      "Optimizing Values...\n",
      "initial\n",
      "1000000.0 0.32 -6.0\n",
      "10542776.202079372 0.9542297324237005 -4.772211290311799\n",
      "Final loss: 1.423385591956602e-23\n",
      "K: 10542776.202079372\n",
      "b: 0.9542297324237005\n",
      "t_0: -4.772211290311799\n"
     ]
    }
   ],
   "source": [
    "patient=2\n",
    "TP=[0]+list(virus[str('TP')+str(patient)][1:3])\n",
    "V=[1]+list(np.power(10,virus[str('VP')+str(patient)]))[1:3]\n",
    " # V=[1]+list(virus[str('VP')+str(patient)][1:4]) for forth patient use it\n",
    "n = len(TP)\n",
    "tf =TP[-1] # final time\n",
    "# Use initial condition\n",
    "y0d = [V[0]]\n",
    "Vp = np.ones(n)*y0d[0]    \n",
    "x0 = np.zeros(3)\n",
    "x0[0] = np.power(10,6) #K(t)\n",
    "x0[1]= 0.32 #b(t)\n",
    "x0[2]=-6.0  #t0\n",
    "print('Initial SSE Objective: ' + str(objective(x0)))\n",
    "print('Optimizing Values...')\n",
    "print( 'initial')\n",
    "V_pinit, V_solinit=sim_model(x0)\n",
    "print(x0[0], x0[1], x0[2])\n",
    "bnds = ((1e5,1e8), (-10,10),  (-70,-1))\n",
    "solution = minimize(objective,x0,bounds=bnds,method='nelder-mead')\n",
    "x = solution.x\n",
    "iae= objective(x)\n",
    "K,b, t_0 = x\n",
    "V_p, V_sol=sim_model(x)\n",
    "print(K, b, t_0)\n",
    "print('Final loss: ' + str(objective(x)))\n",
    "print('K: ' + str(K))\n",
    "print('b: ' + str(b))\n",
    "print('t_0: ' + str(t_0))\n",
    "    "
   ]
  },
  {
   "cell_type": "code",
   "execution_count": 24,
   "metadata": {},
   "outputs": [
    {
     "data": {
      "image/png": "[encoded data removed]",
      "text/plain": [
       "<Figure size 432x288 with 1 Axes>"
      ]
     },
     "metadata": {
      "needs_background": "light"
     },
     "output_type": "display_data"
    }
   ],
   "source": [
    "TP=[0]+list(virus[str('TP')+str(patient)][1:3]+math.ceil(abs(t_0)))\n",
    "plt.plot(V_sol)\n",
    "plt.plot(TP,V_p, 'bo')\n",
    "plt.plot(TP,V, 'ro')\n",
    "plt.show()"
   ]
  },
  {
   "cell_type": "code",
   "execution_count": 25,
   "metadata": {},
   "outputs": [
    {
     "data": {
      "image/png": "[encoded data removed]",
      "text/plain": [
       "<Figure size 432x288 with 1 Axes>"
      ]
     },
     "metadata": {
      "needs_background": "light"
     },
     "output_type": "display_data"
    }
   ],
   "source": [
    "# plt.figure(5,figsize=(20,10))\n",
    "plt.title('|| patient')\n",
    "plt.plot(np.log(V_sol), 'y--', label='optimized (log)')\n",
    "plt.plot(TP, np.log(V_p), 'ro', label='predictied_points (log)')\n",
    "plt.plot(TP, np.log(V), 'bo', label='data_points (log)')\n",
    "plt.xlabel('time (days)')\n",
    "plt.ylabel('log(Virus) (copies/mL)')\n",
    "plt.legend()\n",
    "plt.grid()\n",
    "plt.show()"
   ]
  },
  {
   "cell_type": "code",
   "execution_count": null,
   "metadata": {},
   "outputs": [],
   "source": []
  },
  {
   "cell_type": "code",
   "execution_count": null,
   "metadata": {},
   "outputs": [],
   "source": []
  }
 ],
 "metadata": {
  "kernelspec": {
   "display_name": "Python 3",
   "language": "python",
   "name": "python3"
  },
  "language_info": {
   "codemirror_mode": {
    "name": "ipython",
    "version": 3
   },
   "file_extension": ".py",
   "mimetype": "text/x-python",
   "name": "python",
   "nbconvert_exporter": "python",
   "pygments_lexer": "ipython3",
   "version": "3.6.9"
  }
 },
 "nbformat": 4,
 "nbformat_minor": 2
}
