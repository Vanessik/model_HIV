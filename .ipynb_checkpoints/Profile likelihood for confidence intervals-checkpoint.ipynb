{
 "cells": [
  {
   "cell_type": "markdown",
   "metadata": {},
   "source": [
    "# Confidence intervals with profile likelihood approach"
   ]
  },
  {
   "cell_type": "code",
   "execution_count": 0,
   "metadata": {
    "colab": {},
    "colab_type": "code",
    "id": "Alx6ZM-baBFr"
   },
   "outputs": [],
   "source": [
    "import numpy as np\n",
    "import pandas as pd\n",
    "import time\n",
    "import os.path\n",
    "import numpy as np\n",
    "import pandas as pd\n",
    "%matplotlib inline\n",
    "import matplotlib.pyplot as plt\n",
    "from scipy.integrate import odeint\n",
    "import ipywidgets as wg\n",
    "from IPython.display import display\n",
    "from scipy.integrate import odeint\n",
    "from scipy.optimize import minimize\n",
    "from scipy.optimize import curve_fit\n",
    "from scipy import stats\n",
    "import numpy as np\n",
    "# from pymcmcstat.MCMC import MCMC\n",
    "import matplotlib.pyplot as plt"
   ]
  },
  {
   "cell_type": "code",
   "execution_count": 0,
   "metadata": {
    "colab": {},
    "colab_type": "code",
    "id": "MYGnwWoBP2zz"
   },
   "outputs": [],
   "source": [
    "# !pip install pymcmcstat\n"
   ]
  },
  {
   "cell_type": "markdown",
   "metadata": {},
   "source": [
    "### Read data"
   ]
  },
  {
   "cell_type": "code",
   "execution_count": 0,
   "metadata": {
    "colab": {},
    "colab_type": "code",
    "id": "3AuqnqS2RXY1"
   },
   "outputs": [],
   "source": [
    "virus=pd.read_excel('data_app_new.xlsx') "
   ]
  },
  {
   "cell_type": "code",
   "execution_count": 0,
   "metadata": {
    "colab": {},
    "colab_type": "code",
    "id": "EyaJjoomabsp"
   },
   "outputs": [],
   "source": [
    "def virus_attack_1(y,t, k_1,k_8, ro_8, ro_V, r):\n",
    "#     oprimized parameters\n",
    "#     k_1,k_8, ro_8, ro_V = p  \n",
    "#     states\n",
    "    y1,y2, y3, y4 = y \n",
    "#     parameters\n",
    "    s_3=5\n",
    "#     ro_8=3.3*0.0001\n",
    "    mu_C=0.015\n",
    "    s_1=5\n",
    "#     k_1=3.87*(0.001) \n",
    "    mu_T=0.02\n",
    "    S=55.6\n",
    "    p_1=0.16\n",
    "#     r=0.02\n",
    "    maxi=1500\n",
    "    mu_ti=0.28    \n",
    "#     k_8=4.5*0.0001\n",
    "    ro_4=0.002\n",
    "#     ro_V=100\n",
    "    mu_V=3.0  \n",
    "    k_10=7.79*1e-6\n",
    "#     dy1dt = s_1+p_1*y4*y1/(y4+S)-k_1*y1*y4-mu_T*y1+r*y1*(1-(y1+y2)/maxi)\n",
    "    dy1dt = s_1-k_1*y1*y4-mu_T*y1+r*y1*(1-(y1+y2)/maxi)\n",
    "    dy2dt = k_1*y1*y4+ro_4*y2*(1-(y1+y2)/maxi)-k_8*y3*y2-mu_ti*y2\n",
    "    dy3dt=s_3+ro_8*y2*y3-mu_C*y3\n",
    "    dy4dt=ro_V*y2-k_10*y1*y4-mu_V*y4\n",
    "#     print(p_1*y4*y1/(y4+S))\n",
    "    return [dy1dt,dy2dt, dy3dt, dy4dt]\n"
   ]
  },
  {
   "cell_type": "markdown",
   "metadata": {
    "colab": {},
    "colab_type": "code",
    "id": "PSKLlUvZaQ5N"
   },
   "source": [
    "### Find optimal solutions"
   ]
  },
  {
   "cell_type": "code",
   "execution_count": 0,
   "metadata": {
    "colab": {},
    "colab_type": "code",
    "id": "BjrjShoqaq-B"
   },
   "outputs": [],
   "source": [
    "def sim_model(x):\n",
    "    k_1,k_8, ro_8, ro_V, r =x\n",
    "    CD_p=[]\n",
    "    CD_ip=[]\n",
    "    CTL_p=[]\n",
    "    V_p=[]\n",
    "    for i in range(0,n-1):\n",
    "        a=t[i]\n",
    "        b=t[i+1]\n",
    "        ts=np.linspace(a,b,b-a+1)\n",
    "#         ts=[t[i], t[i+1]]\n",
    "        inputs = (k_1,k_8, ro_8, ro_V , r)\n",
    "        y = odeint(virus_attack_1,[CDp[i],Tip[i], CCp[i], Vp[i]],ts,args=inputs)     \n",
    "        CDp[i+1] = y[-1,0]\n",
    "        Tip[i+1]=y[-1,1]\n",
    "        CCp[i+1]=y[-1,2]\n",
    "        Vp[i+1] = y[-1,3]\n",
    "        CD_p+=list(y[:,0][:-1])\n",
    "        CD_ip+=list(y[:,1][:-1])\n",
    "        CTL_p+=list(y[:,2][:-1])\n",
    "        V_p+=list(y[:, 3][:-1])\n",
    "    CD_p+=[y[:,0][-1]]\n",
    "    CD_ip+=[y[:,1][-1]]\n",
    "    CTL_p+=[y[:,2][-1]]\n",
    "    V_p+=[y[:, 3][-1]]\n",
    "    return CDp,Tip, CCp, Vp , CD_p, CD_ip, CTL_p, V_p   \n",
    "\n",
    "def objective(x):\n",
    "    CDp,Tip, CCp, Vp, CD_p, CD_ip, CTL_p, V_p  = sim_model(x)\n",
    "    return sum(np.power(np.log(CDp)-np.log(CD), 2)+np.power(np.log(Vp)-np.log(V),2))"
   ]
  },
  {
   "cell_type": "code",
   "execution_count": 222,
   "metadata": {
    "colab": {
     "base_uri": "https://localhost:8080/",
     "height": 54
    },
    "colab_type": "code",
    "executionInfo": {
     "elapsed": 1673,
     "status": "ok",
     "timestamp": 1592132267549,
     "user": {
      "displayName": "Ванесса Валерьевна Склярова",
      "photoUrl": "",
      "userId": "10835864845436142939"
     },
     "user_tz": -180
    },
    "id": "Vu7dIBP5c2zQ",
    "outputId": "4aa3c671-cd8b-4584-e92a-9eb45b3cead9"
   },
   "outputs": [
    {
     "name": "stdout",
     "output_type": "stream",
     "text": [
      "[Errno 2] No such file or directory: 'constrNMPy'\n",
      "/content/drive/My Drive/Colab Notebooks/science-work/constrNMPy/constrNMPy\n"
     ]
    }
   ],
   "source": [
    "cd constrNMPy"
   ]
  },
  {
   "cell_type": "code",
   "execution_count": 0,
   "metadata": {
    "colab": {},
    "colab_type": "code",
    "id": "l9nLDZ3DdLEx"
   },
   "outputs": [],
   "source": [
    "import constrNMPy as cNM "
   ]
  },
  {
   "cell_type": "code",
   "execution_count": 224,
   "metadata": {
    "colab": {
     "base_uri": "https://localhost:8080/",
     "height": 843
    },
    "colab_type": "code",
    "executionInfo": {
     "elapsed": 19388,
     "status": "ok",
     "timestamp": 1592132285621,
     "user": {
      "displayName": "Ванесса Валерьевна Склярова",
      "photoUrl": "",
      "userId": "10835864845436142939"
     },
     "user_tz": -180
    },
    "id": "mFcKGCWcb98i",
    "outputId": "dbbed6db-c8ab-4bbd-97d4-de211512dbe6"
   },
   "outputs": [
    {
     "name": "stdout",
     "output_type": "stream",
     "text": [
      "Initial loss 119.052939475831\n",
      "5.641085064763714e-06 0.0021207741531466436 0.006999821230735903 2356.5345416305927 0.022327104028741888\n"
     ]
    },
    {
     "name": "stderr",
     "output_type": "stream",
     "text": [
      "/usr/local/lib/python3.6/dist-packages/ipykernel_launcher.py:30: RuntimeWarning: invalid value encountered in log\n",
      "/usr/local/lib/python3.6/dist-packages/scipy/integrate/odepack.py:248: ODEintWarning: Excess work done on this call (perhaps wrong Dfun type). Run with full_output = 1 to get quantitative information.\n",
      "  warnings.warn(warning_msg, ODEintWarning)\n"
     ]
    },
    {
     "name": "stdout",
     "output_type": "stream",
     "text": [
      "Final loss: 101.66018107490639\n",
      "k_1: 3.207410152789529e-05\n",
      "k_8: 0.021609358662702693\n",
      "ro_8: 0.0020491664571050854\n",
      "ro_V: 2466.3623073398144\n",
      "r: 0.010036659861307003\n"
     ]
    },
    {
     "name": "stderr",
     "output_type": "stream",
     "text": [
      "/usr/local/lib/python3.6/dist-packages/ipykernel_launcher.py:66: RuntimeWarning: divide by zero encountered in log\n"
     ]
    },
    {
     "data": {
      "image/png": "[encoded data removed]",
      "text/plain": [
       "<Figure size 1440x720 with 4 Axes>"
      ]
     },
     "metadata": {
      "needs_background": "light",
      "tags": []
     },
     "output_type": "display_data"
    }
   ],
   "source": [
    "patient=3\n",
    "\n",
    "virus['V']=np.power(10,virus[str('VP')+str(patient)])/2000\n",
    "n = virus[str('TP')+str(patient)].shape[0]# time points to plot\n",
    "\n",
    "tf =virus[str('TP')+str(patient)][n-1]  # final time\n",
    "    # Use initial condition\n",
    "y0d = [virus[str('CDP')+str(patient)].values[0],0, 617, virus['V'].values[0]]\n",
    "V = virus['V'].values\n",
    "CD = virus[str('CDP')+str(patient)].values\n",
    "CDp = np.ones(n)*y0d[0]\n",
    "Tip=np.ones(n)*y0d[1]\n",
    "CCp=np.ones(n)*y0d[2]\n",
    "Vp = np.ones(n)*y0d[3]\n",
    "t=virus[str('TP')+str(patient)].values-virus[str('TP')+str(patient)].values[0]  \n",
    "\n",
    "\n",
    "# initial conditions\n",
    "x0 = np.zeros(5)\n",
    "# x0[0], x0[1], x0[2], x0[3], x0[4] = [4.865450737293174e-06, 0.012603723933628892, 0.00335862660074326, 6600.037623101951,  0.02277862790354825]\n",
    "x0[0], x0[1], x0[2], x0[3], x0[4]= [ 5.641085064763714e-06, 0.0021207741531466436, 0.006999821230735903, 2356.5345416305927,0.022327104028741888]\n",
    "# k_8: 0.012603723933628892\n",
    "# ro_8: 0.00335862660074326\n",
    "# ro_V: 6600.037623101951\n",
    "# r: 0.02277862790354825\n",
    "print('Initial loss ' + str(objective(x0)))\n",
    "print(x0[0], x0[1], x0[2], x0[3], x0[4])\n",
    "\n",
    "# create bounds\n",
    "LB=[0.00000002, 0.0001, 0.0001, 0.1, 0.01]\n",
    "UB=[0.089,2.5, 0.03, 6658, 0.04]\n",
    "\n",
    "# optimize\n",
    "solution=cNM.constrNM(objective,x0,LB,UB,full_output=True)\n",
    "x = solution['xopt']\n",
    "iae = objective(x)\n",
    "k_1,k_8, ro_8, ro_V, r  = x\n",
    "\n",
    "print('Final loss: ' + str(objective(x)))\n",
    "print('k_1: ' + str(k_1))\n",
    "print('k_8: ' + str(k_8))\n",
    "print('ro_8: ' + str(ro_8))\n",
    "print('ro_V: ' + str(ro_V))\n",
    "print('r: ' + str(r))\n",
    "# print('s: ' + str(s))\n",
    "\n",
    "# visualize\n",
    "_,_,_,_, CDp, Tip, CCp, Vp = sim_model(x)\n",
    "plt.figure(figsize=(20,10))\n",
    "plt.title('V patient')\n",
    "plt.subplot(4,1,1)\n",
    "plt.plot( np.log(CDp),'r',label=r'$CD4$ optimized')\n",
    "plt.plot(t,np.log(CD),'bo',label=r'$CD4$ measured')\n",
    "plt.legend(loc='best')\n",
    "plt.grid()\n",
    "plt.ylabel('log(Healthy T) (cells/mm3)')\n",
    "\n",
    "plt.subplot(4,1,2)\n",
    "plt.plot(np.log(Vp),'y',label=r'$V$ optimized')\n",
    "plt.plot(t, np.log(V),'bo',label=r'$V$ measured')\n",
    "plt.grid()\n",
    "plt.ylabel('log(Viruses) (particles/mm3)')\n",
    "plt.legend()\n",
    "\n",
    "plt.subplot(4,1,3)\n",
    "plt.plot(np.log(Tip),'b',label=r'$CD4$ infected cells')\n",
    "plt.grid()\n",
    "plt.ylabel('log(Inf T) (cells/mm3)')\n",
    "plt.legend(loc='best')\n",
    "       \n",
    "plt.subplot(4,1,4)\n",
    "plt.plot(np.log(CCp),'b',label=r'$CTL$ cells')\n",
    "plt.grid()\n",
    "plt.ylabel('log(CTL) (cells/mm3)')\n",
    "plt.legend(loc='best')\n",
    "plt.show()\n",
    "p_opt=[k_1,k_8, ro_8, ro_V, r]"
   ]
  },
  {
   "cell_type": "markdown",
   "metadata": {},
   "source": [
    "# Profile-likelihood approach"
   ]
  },
  {
   "cell_type": "code",
   "execution_count": 225,
   "metadata": {
    "colab": {
     "base_uri": "https://localhost:8080/",
     "height": 36
    },
    "colab_type": "code",
    "executionInfo": {
     "elapsed": 19228,
     "status": "ok",
     "timestamp": 1592132285627,
     "user": {
      "displayName": "Ванесса Валерьевна Склярова",
      "photoUrl": "",
      "userId": "10835864845436142939"
     },
     "user_tz": -180
    },
    "id": "cmgkKYWQiWfK",
    "outputId": "4e828f47-1e45-46f4-b70a-cd592f6c9d32"
   },
   "outputs": [
    {
     "data": {
      "text/plain": [
       "101.66018107490639"
      ]
     },
     "execution_count": 225,
     "metadata": {
      "tags": []
     },
     "output_type": "execute_result"
    }
   ],
   "source": [
    "# define opt loss\n",
    "opt_loss=119.052939475831; iae"
   ]
  },
  {
   "cell_type": "code",
   "execution_count": 0,
   "metadata": {
    "colab": {},
    "colab_type": "code",
    "id": "dp_1KhTNa0bU"
   },
   "outputs": [],
   "source": [
    "# define vector of optimal parameter\n",
    "p_opt=[ 5.641085064763714e-06, 0.0021207741531466436, 0.006999821230735903, 2356.5345416305927,0.022327104028741888]"
   ]
  },
  {
   "cell_type": "code",
   "execution_count": 0,
   "metadata": {
    "colab": {},
    "colab_type": "code",
    "id": "jW7Sn6VSQjRm"
   },
   "outputs": [],
   "source": [
    "def virus_attack_1_fixed(y,t, k_1):\n",
    "#     oprimized parameters\n",
    "#     k_1,k_8, ro_8, ro_V = p  \n",
    "#     states\n",
    "    y1,y2, y3, y4 = y \n",
    "#     parameters\n",
    "# this function should be changed for each estimated parameter\n",
    "    ro_V=p_opt[3]\n",
    "    ro_8=p_opt[2]\n",
    "    k_8=p_opt[1]\n",
    "    r=p_opt[4]\n",
    "    s_3=5\n",
    "#     ro_8=3.3*0.0001\n",
    "    mu_C=0.015\n",
    "    s_1=5\n",
    "#     k_1=3.87*(0.001) \n",
    "    mu_T=0.02\n",
    "    S=55.6\n",
    "    p_1=0.16\n",
    "#     r=0.02\n",
    "    maxi=1500\n",
    "    mu_ti=0.28    \n",
    "#     k_8=4.5*0.0001\n",
    "    ro_4=0.002\n",
    "#     ro_V=100\n",
    "    mu_V=3.0  \n",
    "    k_10=7.79*1e-6\n",
    "#     dy1dt = s_1+p_1*y4*y1/(y4+S)-k_1*y1*y4-mu_T*y1+r*y1*(1-(y1+y2)/maxi)\n",
    "    dy1dt = s_1-k_1*y1*y4-mu_T*y1+r*y1*(1-(y1+y2)/maxi)\n",
    "    dy2dt = k_1*y1*y4+ro_4*y2*(1-(y1+y2)/maxi)-k_8*y3*y2-mu_ti*y2\n",
    "    dy3dt=s_3+ro_8*y2*y3-mu_C*y3\n",
    "    dy4dt=ro_V*y2-k_10*y1*y4-mu_V*y4\n",
    "#     print(p_1*y4*y1/(y4+S))\n",
    "    return [dy1dt,dy2dt, dy3dt, dy4dt]\n",
    "def sim_model_fixed(x):\n",
    "    k_8 =x\n",
    "    CD_p=[]\n",
    "    CD_ip=[]\n",
    "    CTL_p=[]\n",
    "    V_p=[]\n",
    "    for i in range(0,n-1):\n",
    "        a=t[i]\n",
    "        b=t[i+1]\n",
    "        ts=np.linspace(a,b,b-a+1)\n",
    "        y = odeint(virus_attack_1_fixed,[CDp[i],Tip[i], CCp[i], Vp[i]],ts,tuple(k_8))     \n",
    "        CDp[i+1] = y[-1,0]\n",
    "        Tip[i+1]=y[-1,1]\n",
    "        CCp[i+1]=y[-1,2]\n",
    "        Vp[i+1] = y[-1,3]\n",
    "        CD_p+=list(y[:,0][:-1])\n",
    "        CD_ip+=list(y[:,1][:-1])\n",
    "        CTL_p+=list(y[:,2][:-1])\n",
    "        V_p+=list(y[:, 3][:-1])\n",
    "    CD_p+=[y[:,0][-1]]\n",
    "    CD_ip+=[y[:,1][-1]]\n",
    "    CTL_p+=[y[:,2][-1]]\n",
    "    V_p+=[y[:, 3][-1]]\n",
    "    return CDp,Tip, CCp, Vp , CD_p, CD_ip, CTL_p, V_p   \n",
    "\n",
    "def objective_fixed(x):\n",
    "    CDp,Tip, CCp, Vp, CD_p, CD_ip, CTL_p, V_p  = sim_model_fixed(x)\n",
    "    return sum(np.power(np.log(CDp)-np.log(CD), 2)+np.power(np.log(Vp)-np.log(V),2))\n"
   ]
  },
  {
   "cell_type": "code",
   "execution_count": 433,
   "metadata": {
    "colab": {
     "base_uri": "https://localhost:8080/",
     "height": 36
    },
    "colab_type": "code",
    "executionInfo": {
     "elapsed": 814,
     "status": "ok",
     "timestamp": 1591998072999,
     "user": {
      "displayName": "Ванесса Валерьевна Склярова",
      "photoUrl": "",
      "userId": "10835864845436142939"
     },
     "user_tz": -180
    },
    "id": "v6mAgnhOHuKG",
    "outputId": "7324c23a-1186-4584-d90f-b3977744d49b"
   },
   "outputs": [
    {
     "data": {
      "text/plain": [
       "85.4113184161899"
      ]
     },
     "execution_count": 433,
     "metadata": {
      "tags": []
     },
     "output_type": "execute_result"
    }
   ],
   "source": [
    "opt_loss"
   ]
  },
  {
   "cell_type": "code",
   "execution_count": 0,
   "metadata": {
    "colab": {},
    "colab_type": "code",
    "id": "IsBhR51ruFOI"
   },
   "outputs": [],
   "source": [
    "sigma_2=1/16*opt_loss\n",
    "hi= 3.841\n",
    "left_lim=opt_loss-sigma_2*hi\n",
    "right_lim=opt_loss+sigma_2*hi"
   ]
  },
  {
   "cell_type": "code",
   "execution_count": 43,
   "metadata": {
    "colab": {
     "base_uri": "https://localhost:8080/",
     "height": 36
    },
    "colab_type": "code",
    "executionInfo": {
     "elapsed": 567,
     "status": "ok",
     "timestamp": 1592128495570,
     "user": {
      "displayName": "Ванесса Валерьевна Склярова",
      "photoUrl": "",
      "userId": "10835864845436142939"
     },
     "user_tz": -180
    },
    "id": "1QX_oP5IvyRg",
    "outputId": "5faffc6a-93cd-41eb-a76b-ea602d6acbb0"
   },
   "outputs": [
    {
     "name": "stdout",
     "output_type": "stream",
     "text": [
      "90.47279319291431 147.63308575874768\n"
     ]
    }
   ],
   "source": [
    "print(left_lim, right_lim)"
   ]
  },
  {
   "cell_type": "markdown",
   "metadata": {},
   "source": [
    "### ro_8"
   ]
  },
  {
   "cell_type": "code",
   "execution_count": 305,
   "metadata": {
    "colab": {
     "base_uri": "https://localhost:8080/",
     "height": 36
    },
    "colab_type": "code",
    "executionInfo": {
     "elapsed": 1266,
     "status": "ok",
     "timestamp": 1591997121658,
     "user": {
      "displayName": "Ванесса Валерьевна Склярова",
      "photoUrl": "",
      "userId": "10835864845436142939"
     },
     "user_tz": -180
    },
    "id": "EA2iGNteGSi5",
    "outputId": "4a0e310d-f1f3-4099-80e7-a392be33158b"
   },
   "outputs": [
    {
     "data": {
      "text/plain": [
       "0.0035720902779899015"
      ]
     },
     "execution_count": 305,
     "metadata": {
      "tags": []
     },
     "output_type": "execute_result"
    }
   ],
   "source": [
    "p_opt[2]\n",
    "# WE SHOULD CHANGE FUNCTION virus_attac1_fixed"
   ]
  },
  {
   "cell_type": "code",
   "execution_count": 56,
   "metadata": {
    "colab": {
     "base_uri": "https://localhost:8080/",
     "height": 73
    },
    "colab_type": "code",
    "executionInfo": {
     "elapsed": 3837,
     "status": "ok",
     "timestamp": 1592128549651,
     "user": {
      "displayName": "Ванесса Валерьевна Склярова",
      "photoUrl": "",
      "userId": "10835864845436142939"
     },
     "user_tz": -180
    },
    "id": "eaUAxUvKRr4N",
    "outputId": "8259caba-467e-443d-e07d-265766d43859"
   },
   "outputs": [
    {
     "name": "stdout",
     "output_type": "stream",
     "text": [
      "[0.00699982]\n",
      "Initial loss 119.052939475831\n",
      "0.006999821230735903\n"
     ]
    }
   ],
   "source": [
    "# initial conditions\n",
    "\n",
    "patient=3\n",
    "\n",
    "virus['V']=np.power(10,virus[str('VP')+str(patient)])/2000\n",
    "n = virus[str('TP')+str(patient)].shape[0]# time points to plot\n",
    "tf =virus[str('TP')+str(patient)][n-1]  # final time\n",
    "    # Use initial condition\n",
    "y0d = [virus[str('CDP')+str(patient)].values[0],0, 617, virus['V'].values[0]]\n",
    "V = virus['V'].values\n",
    "CD = virus[str('CDP')+str(patient)].values\n",
    "CDp = np.ones(n)*y0d[0]\n",
    "Tip=np.ones(n)*y0d[1]\n",
    "CCp=np.ones(n)*y0d[2]\n",
    "Vp = np.ones(n)*y0d[3]\n",
    "t=virus[str('TP')+str(patient)].values-virus[str('TP')+str(patient)].values[0] \n",
    "x0 = np.zeros(1)\n",
    "x0[0] = p_opt[2]\n",
    "print(x0)\n",
    "roV=[]\n",
    "losV=[]\n",
    "roV_=[]\n",
    "losV_=[]\n",
    "opt_loss=objective_fixed(x0)\n",
    "print('Initial loss ' + str(objective_fixed(x0)))\n",
    "print(x0[0])\n",
    "for i in range(50):\n",
    "  x0[0]=x0[0]+0.0001*i\n",
    "  # print('Initial loss ' + str(objective_fixed(x0)))\n",
    "  # print(x0[0])\n",
    "  roV.append(x0[0])\n",
    "  losV.append(objective_fixed(x0))\n",
    "  x0[0]=p_opt[2]\n",
    "x0[0]= p_opt[2] \n",
    "for i in range(30):  \n",
    "  x0[0]=x0[0]-0.0001*i\n",
    "  # print('Initial loss ' + str(objective_fixed(x0)))\n",
    "  # print(x0[0])\n",
    "  roV_.append(x0[0])\n",
    "  losV_.append(objective_fixed(x0))\n",
    "  x0[0]=p_opt[2]"
   ]
  },
  {
   "cell_type": "code",
   "execution_count": 0,
   "metadata": {
    "colab": {},
    "colab_type": "code",
    "id": "GkuCOZZdRsC8"
   },
   "outputs": [],
   "source": [
    "roV_.reverse()\n",
    "losV_.reverse()"
   ]
  },
  {
   "cell_type": "code",
   "execution_count": 60,
   "metadata": {
    "colab": {
     "base_uri": "https://localhost:8080/",
     "height": 36
    },
    "colab_type": "code",
    "executionInfo": {
     "elapsed": 2917,
     "status": "ok",
     "timestamp": 1592128549653,
     "user": {
      "displayName": "Ванесса Валерьевна Склярова",
      "photoUrl": "",
      "userId": "10835864845436142939"
     },
     "user_tz": -180
    },
    "id": "cUP9VOKxTBpO",
    "outputId": "0ceaf4b9-fad4-4a5f-a4d9-f20fea956a5e"
   },
   "outputs": [
    {
     "name": "stdout",
     "output_type": "stream",
     "text": [
      "90.47279319291431 147.63308575874768\n"
     ]
    }
   ],
   "source": [
    "print(left_lim, right_lim)"
   ]
  },
  {
   "cell_type": "code",
   "execution_count": 0,
   "metadata": {
    "colab": {},
    "colab_type": "code",
    "id": "kJ8tMUJr7sWA"
   },
   "outputs": [],
   "source": [
    "roVsum=roV_+roV\n",
    "maxi=[right_lim]*len(roVsum)\n",
    "opti=[opt_loss]*len(roVsum)\n",
    "mini=[left_lim]*len(roVsum)"
   ]
  },
  {
   "cell_type": "code",
   "execution_count": 63,
   "metadata": {
    "colab": {
     "base_uri": "https://localhost:8080/",
     "height": 334
    },
    "colab_type": "code",
    "executionInfo": {
     "elapsed": 1912,
     "status": "ok",
     "timestamp": 1592128549655,
     "user": {
      "displayName": "Ванесса Валерьевна Склярова",
      "photoUrl": "",
      "userId": "10835864845436142939"
     },
     "user_tz": -180
    },
    "id": "8168e9QkRsRQ",
    "outputId": "1cb99eb2-fead-4e9e-aebb-e33c1592f7f1"
   },
   "outputs": [
    {
     "data": {
      "text/plain": [
       "Text(0.5, 1.0, 'доверительные интервалы для ro_8')"
      ]
     },
     "execution_count": 63,
     "metadata": {
      "tags": []
     },
     "output_type": "execute_result"
    },
    {
     "data": {
      "image/png": "[encoded data removed]",
      "text/plain": [
       "<Figure size 432x288 with 1 Axes>"
      ]
     },
     "metadata": {
      "needs_background": "light",
      "tags": []
     },
     "output_type": "display_data"
    }
   ],
   "source": [
    "plt.plot(roV_+roV,losV_+losV , label='loss_function')\n",
    "plt.plot(roV_+roV, maxi[:120], ':', label=r'max')\n",
    "plt.plot(roV_+roV, mini[:120], ':', label=r'min')\n",
    "plt.plot(roV_+roV, opti[:120], 'r', label=r'optimal')\n",
    "plt.grid()\n",
    "plt.legend(loc='best')\n",
    "plt.xticks(rotation=90)\n",
    "plt.xlabel('ro_8')\n",
    "plt.ylabel('loss_function')\n",
    "plt.title('доверительные интервалы для ro_8')"
   ]
  },
  {
   "cell_type": "code",
   "execution_count": 76,
   "metadata": {
    "colab": {
     "base_uri": "https://localhost:8080/",
     "height": 73
    },
    "colab_type": "code",
    "executionInfo": {
     "elapsed": 600,
     "status": "ok",
     "timestamp": 1592128763022,
     "user": {
      "displayName": "Ванесса Валерьевна Склярова",
      "photoUrl": "",
      "userId": "10835864845436142939"
     },
     "user_tz": -180
    },
    "id": "hB8FJijZRsTT",
    "outputId": "ad8017a1-5cf1-4661-b1f9-845b05952d33"
   },
   "outputs": [
    {
     "name": "stdout",
     "output_type": "stream",
     "text": [
      "[0.00699982]\n",
      "Initial loss 119.052939475831\n",
      "Initial loss 147.12948224856837\n"
     ]
    }
   ],
   "source": [
    "# x0 = np.zeros(1)\n",
    "# x0[0] = p_opt[2]\n",
    "# print(x0)\n",
    "# roV=[]\n",
    "# losV=[]\n",
    "# roV_=[]\n",
    "# losV_=[]\n",
    "# opt_loss=objective_fixed(x0)\n",
    "# print('Initial loss ' + str(objective_fixed(x0)))\n",
    "# x0[0]=0.004580768\n",
    "# opt_loss=objective_fixed(x0)\n",
    "# print('Initial loss ' + str(objective_fixed(x0)))"
   ]
  },
  {
   "cell_type": "markdown",
   "metadata": {},
   "source": [
    "### k_8"
   ]
  },
  {
   "cell_type": "code",
   "execution_count": 91,
   "metadata": {
    "colab": {
     "base_uri": "https://localhost:8080/",
     "height": 73
    },
    "colab_type": "code",
    "executionInfo": {
     "elapsed": 3544,
     "status": "ok",
     "timestamp": 1592128885191,
     "user": {
      "displayName": "Ванесса Валерьевна Склярова",
      "photoUrl": "",
      "userId": "10835864845436142939"
     },
     "user_tz": -180
    },
    "id": "uckAj7u2LIVo",
    "outputId": "a85e6bcc-756c-4070-f5b2-4ffe81fad32f"
   },
   "outputs": [
    {
     "name": "stdout",
     "output_type": "stream",
     "text": [
      "[0.00212077]\n",
      "Initial loss 119.052939475831\n",
      "0.0021207741531466436\n"
     ]
    }
   ],
   "source": [
    "# initial conditions\n",
    "# WE SHOULD CHANGE FUNCTION virus_attac1_fixed\n",
    "x0 = np.zeros(1)\n",
    "x0[0] = p_opt[1]\n",
    "print(x0)\n",
    "roV=[]\n",
    "losV=[]\n",
    "roV_=[]\n",
    "losV_=[]\n",
    "opt_loss=objective_fixed(x0)\n",
    "print('Initial loss ' + str(objective_fixed(x0)))\n",
    "print(x0[0])\n",
    "for i in range(60):\n",
    "  x0[0]=x0[0]+0.00001*i\n",
    "  # print('Initial loss ' + str(objective_fixed(x0)))\n",
    "  # print(x0[0])\n",
    "  roV.append(x0[0])\n",
    "  losV.append(objective_fixed(x0))\n",
    "  x0[0]=p_opt[1]\n",
    "x0[0]= p_opt[1] \n",
    "for i in range(30):  \n",
    "  x0[0]=x0[0]-0.00001*i\n",
    "  # print('Initial loss ' + str(objective_fixed(x0)))\n",
    "  # print(x0[0])\n",
    "  roV_.append(x0[0])\n",
    "  losV_.append(objective_fixed(x0))\n",
    "  x0[0]=p_opt[1]"
   ]
  },
  {
   "cell_type": "code",
   "execution_count": 0,
   "metadata": {
    "colab": {},
    "colab_type": "code",
    "id": "auIEQ95aLIbB"
   },
   "outputs": [],
   "source": [
    "roV_.reverse()\n",
    "losV_.reverse()"
   ]
  },
  {
   "cell_type": "code",
   "execution_count": 93,
   "metadata": {
    "colab": {
     "base_uri": "https://localhost:8080/",
     "height": 36
    },
    "colab_type": "code",
    "executionInfo": {
     "elapsed": 3167,
     "status": "ok",
     "timestamp": 1592128885191,
     "user": {
      "displayName": "Ванесса Валерьевна Склярова",
      "photoUrl": "",
      "userId": "10835864845436142939"
     },
     "user_tz": -180
    },
    "id": "H2Jn8kcBDzke",
    "outputId": "fca6791c-a1cf-4290-ac7d-b28ade5096f6"
   },
   "outputs": [
    {
     "name": "stdout",
     "output_type": "stream",
     "text": [
      "90.47279319291431 147.63308575874768\n"
     ]
    }
   ],
   "source": [
    "print(left_lim, right_lim)"
   ]
  },
  {
   "cell_type": "code",
   "execution_count": 0,
   "metadata": {
    "colab": {},
    "colab_type": "code",
    "id": "ts2Jd5kCQVhn"
   },
   "outputs": [],
   "source": [
    "# right_k8=0.0010453\n",
    "# left_k8=0.00093784"
   ]
  },
  {
   "cell_type": "code",
   "execution_count": 0,
   "metadata": {
    "colab": {},
    "colab_type": "code",
    "id": "yJJdPOavDBIF"
   },
   "outputs": [],
   "source": [
    "roVsum=roV_+roV\n",
    "maxi=[right_lim]*len(roVsum)\n",
    "opti=[opt_loss]*len(roVsum)\n",
    "mini=[left_lim]*len(roVsum)"
   ]
  },
  {
   "cell_type": "code",
   "execution_count": 98,
   "metadata": {
    "colab": {
     "base_uri": "https://localhost:8080/",
     "height": 340
    },
    "colab_type": "code",
    "executionInfo": {
     "elapsed": 713,
     "status": "ok",
     "timestamp": 1592128892791,
     "user": {
      "displayName": "Ванесса Валерьевна Склярова",
      "photoUrl": "",
      "userId": "10835864845436142939"
     },
     "user_tz": -180
    },
    "id": "5PEEXuToLIgy",
    "outputId": "205b88eb-b10d-4c88-8b34-fd9c0eac05c5"
   },
   "outputs": [
    {
     "data": {
      "text/plain": [
       "Text(0.5, 1.0, 'доверительные интервалы для k_8')"
      ]
     },
     "execution_count": 98,
     "metadata": {
      "tags": []
     },
     "output_type": "execute_result"
    },
    {
     "data": {
      "image/png": "[encoded data removed]",
      "text/plain": [
       "<Figure size 432x288 with 1 Axes>"
      ]
     },
     "metadata": {
      "needs_background": "light",
      "tags": []
     },
     "output_type": "display_data"
    }
   ],
   "source": [
    "plt.plot(roV_+roV,losV_+losV , label='loss_function')\n",
    "plt.plot(roV_+roV, maxi[:90], ':', label=r'max')\n",
    "plt.plot(roV_+roV, mini[:90], ':', label=r'min')\n",
    "plt.plot(roV_+roV, opti[:90], 'r', label=r'optimal')\n",
    "plt.grid()\n",
    "plt.legend(loc='best')\n",
    "plt.xticks(rotation=90)\n",
    "plt.xlabel('k_8')\n",
    "plt.ylabel('loss_function')\n",
    "plt.title('доверительные интервалы для k_8')"
   ]
  },
  {
   "cell_type": "code",
   "execution_count": 114,
   "metadata": {
    "colab": {
     "base_uri": "https://localhost:8080/",
     "height": 73
    },
    "colab_type": "code",
    "executionInfo": {
     "elapsed": 741,
     "status": "ok",
     "timestamp": 1592129068135,
     "user": {
      "displayName": "Ванесса Валерьевна Склярова",
      "photoUrl": "",
      "userId": "10835864845436142939"
     },
     "user_tz": -180
    },
    "id": "3VI2QhJELIdk",
    "outputId": "fe4bb43a-f455-4f9a-8451-dd9d6afb58ee"
   },
   "outputs": [
    {
     "name": "stdout",
     "output_type": "stream",
     "text": [
      "[0.00212077]\n",
      "Initial loss 119.052939475831\n",
      "Initial loss 147.46674423111057\n"
     ]
    }
   ],
   "source": [
    "# x0 = np.zeros(1)\n",
    "# x0[0] = p_opt[1]\n",
    "# print(x0)\n",
    "# roV=[]\n",
    "# losV=[]\n",
    "# roV_=[]\n",
    "# losV_=[]\n",
    "# opt_loss=objective_fixed(x0)\n",
    "# print('Initial loss ' + str(objective_fixed(x0)))\n",
    "# x0[0]=0.001933\n",
    "\n",
    "# opt_loss=objective_fixed(x0)\n",
    "# print('Initial loss ' + str(objective_fixed(x0)))"
   ]
  },
  {
   "cell_type": "markdown",
   "metadata": {},
   "source": [
    "### k_1"
   ]
  },
  {
   "cell_type": "code",
   "execution_count": null,
   "metadata": {},
   "outputs": [],
   "source": [
    "# WE SHOULD CHANGE FUNCTION virus_attac1_fixed"
   ]
  },
  {
   "cell_type": "code",
   "execution_count": 199,
   "metadata": {
    "colab": {
     "base_uri": "https://localhost:8080/",
     "height": 73
    },
    "colab_type": "code",
    "executionInfo": {
     "elapsed": 4147,
     "status": "ok",
     "timestamp": 1592129601159,
     "user": {
      "displayName": "Ванесса Валерьевна Склярова",
      "photoUrl": "",
      "userId": "10835864845436142939"
     },
     "user_tz": -180
    },
    "id": "ZKn5O-M9GSl4",
    "outputId": "3d68890a-d6be-4a3a-dce5-1528f10b7bae"
   },
   "outputs": [
    {
     "name": "stdout",
     "output_type": "stream",
     "text": [
      "[5.64108506e-06]\n",
      "Initial loss 119.052939475831\n",
      "5.641085064763714e-06\n"
     ]
    }
   ],
   "source": [
    "# initial conditions\n",
    "x0 = np.zeros(1)\n",
    "x0[0] = p_opt[0]\n",
    "print(x0)\n",
    "roV=[]\n",
    "losV=[]\n",
    "roV_=[]\n",
    "losV_=[]\n",
    "opt_loss=objective_fixed(x0)\n",
    "print('Initial loss ' + str(objective_fixed(x0)))\n",
    "print(x0[0])\n",
    "for i in range(40):\n",
    "  x0[0]=x0[0]+0.00000001*i\n",
    "  # print('Initial loss ' + str(objective_fixed(x0)))\n",
    "  # print(x0[0])\n",
    "  roV.append(x0[0])\n",
    "  losV.append(objective_fixed(x0))\n",
    "  x0[0]=p_opt[0]\n",
    "x0[0]= p_opt[0] \n",
    "for i in range(80):  \n",
    "  x0[0]=x0[0]-0.00000001*i\n",
    "  # print('Initial loss ' + str(objective_fixed(x0)))\n",
    "  # print(x0[0])\n",
    "  roV_.append(x0[0])\n",
    "  losV_.append(objective_fixed(x0))\n",
    "  x0[0]=p_opt[0]"
   ]
  },
  {
   "cell_type": "code",
   "execution_count": 0,
   "metadata": {
    "colab": {},
    "colab_type": "code",
    "id": "3KJOq1IFGSoU"
   },
   "outputs": [],
   "source": [
    "roV_.reverse()\n",
    "losV_.reverse()"
   ]
  },
  {
   "cell_type": "code",
   "execution_count": 0,
   "metadata": {
    "colab": {},
    "colab_type": "code",
    "id": "R8WBOYm8KWMm"
   },
   "outputs": [],
   "source": [
    "# right_k1=0.00020451\n",
    "# left_k1=0.00019547"
   ]
  },
  {
   "cell_type": "code",
   "execution_count": 207,
   "metadata": {
    "colab": {
     "base_uri": "https://localhost:8080/",
     "height": 321
    },
    "colab_type": "code",
    "executionInfo": {
     "elapsed": 751,
     "status": "ok",
     "timestamp": 1592129649115,
     "user": {
      "displayName": "Ванесса Валерьевна Склярова",
      "photoUrl": "",
      "userId": "10835864845436142939"
     },
     "user_tz": -180
    },
    "id": "x5rllo5qGSrM",
    "outputId": "30e0beef-e1f4-4f7d-b6cf-3db9393d353b"
   },
   "outputs": [
    {
     "data": {
      "text/plain": [
       "Text(0.5, 1.0, 'доверительные интервалы для k_1')"
      ]
     },
     "execution_count": 207,
     "metadata": {
      "tags": []
     },
     "output_type": "execute_result"
    },
    {
     "data": {
      "image/png": "[encoded data removed]",
      "text/plain": [
       "<Figure size 432x288 with 1 Axes>"
      ]
     },
     "metadata": {
      "needs_background": "light",
      "tags": []
     },
     "output_type": "display_data"
    }
   ],
   "source": [
    "\n",
    "shape=len(roV_+roV)plt.plot(roV_+roV,losV_+losV , label='loss_function')\n",
    "plt.plot(roV_+roV, maxi[:shape], ':', label=r'max')\n",
    "plt.plot(roV_+roV, mini[:shape], ':', label=r'min')\n",
    "plt.plot(roV_+roV, opti[:shape], 'r', label=r'optimal')\n",
    "plt.grid()\n",
    "plt.legend(loc='best')\n",
    "plt.xticks(rotation=90)\n",
    "plt.xlabel('k_1')\n",
    "plt.ylabel('loss_function')\n",
    "plt.title('доверительные интервалы для k_1')"
   ]
  },
  {
   "cell_type": "code",
   "execution_count": 220,
   "metadata": {
    "colab": {
     "base_uri": "https://localhost:8080/",
     "height": 73
    },
    "colab_type": "code",
    "executionInfo": {
     "elapsed": 808,
     "status": "ok",
     "timestamp": 1592129767681,
     "user": {
      "displayName": "Ванесса Валерьевна Склярова",
      "photoUrl": "",
      "userId": "10835864845436142939"
     },
     "user_tz": -180
    },
    "id": "IMCsiCUnJs_E",
    "outputId": "53d6c55b-895e-4591-9988-5e2e975b4688"
   },
   "outputs": [
    {
     "name": "stdout",
     "output_type": "stream",
     "text": [
      "[5.64108506e-06]\n",
      "Initial loss 119.052939475831\n",
      "Initial loss 147.63345674809196\n"
     ]
    }
   ],
   "source": [
    "# x0 = np.zeros(1)\n",
    "# x0[0] = p_opt[0]\n",
    "# print(x0)\n",
    "# roV=[]\n",
    "# losV=[]\n",
    "# roV_=[]\n",
    "# losV_=[]\n",
    "# opt_loss=objective_fixed(x0)\n",
    "# print('Initial loss ' + str(objective_fixed(x0)))\n",
    "# x0[0]=4.957e-6\n",
    "# opt_loss=objective_fixed(x0)\n",
    "# print('Initial loss ' + str(objective_fixed(x0)))\n",
    "\n"
   ]
  },
  {
   "cell_type": "markdown",
   "metadata": {},
   "source": [
    "### ro_V"
   ]
  },
  {
   "cell_type": "code",
   "execution_count": 1,
   "metadata": {
    "colab": {
     "base_uri": "https://localhost:8080/",
     "height": 36
    },
    "colab_type": "code",
    "executionInfo": {
     "elapsed": 678,
     "status": "ok",
     "timestamp": 1592129114902,
     "user": {
      "displayName": "Ванесса Валерьевна Склярова",
      "photoUrl": "",
      "userId": "10835864845436142939"
     },
     "user_tz": -180
    },
    "id": "BVPVtMNK86Gh",
    "outputId": "a4fc8b4f-8dfb-4ca3-a13f-7df8d5071f99"
   },
   "outputs": [
    {
     "ename": "NameError",
     "evalue": "name 'p_opt' is not defined",
     "output_type": "error",
     "traceback": [
      "\u001b[1;31m---------------------------------------------------------------------------\u001b[0m",
      "\u001b[1;31mNameError\u001b[0m                                 Traceback (most recent call last)",
      "\u001b[1;32m<ipython-input-1-ec52b20ff2ee>\u001b[0m in \u001b[0;36m<module>\u001b[1;34m\u001b[0m\n\u001b[0;32m      1\u001b[0m \u001b[1;31m# WE SHOULD CHANGE FUNCTION virus_attac1_fixed\u001b[0m\u001b[1;33m\u001b[0m\u001b[1;33m\u001b[0m\u001b[1;33m\u001b[0m\u001b[0m\n\u001b[1;32m----> 2\u001b[1;33m \u001b[0mp_opt\u001b[0m\u001b[1;33m[\u001b[0m\u001b[1;36m3\u001b[0m\u001b[1;33m]\u001b[0m\u001b[1;33m\u001b[0m\u001b[1;33m\u001b[0m\u001b[0m\n\u001b[0m",
      "\u001b[1;31mNameError\u001b[0m: name 'p_opt' is not defined"
     ]
    }
   ],
   "source": [
    "# WE SHOULD CHANGE FUNCTION virus_attac1_fixed\n",
    "p_opt[3]"
   ]
  },
  {
   "cell_type": "code",
   "execution_count": 146,
   "metadata": {
    "colab": {
     "base_uri": "https://localhost:8080/",
     "height": 73
    },
    "colab_type": "code",
    "executionInfo": {
     "elapsed": 7503,
     "status": "ok",
     "timestamp": 1592129228294,
     "user": {
      "displayName": "Ванесса Валерьевна Склярова",
      "photoUrl": "",
      "userId": "10835864845436142939"
     },
     "user_tz": -180
    },
    "id": "6oMwUS5MQjc9",
    "outputId": "8db2ee3d-9563-430a-c458-b14aff4f785a"
   },
   "outputs": [
    {
     "name": "stdout",
     "output_type": "stream",
     "text": [
      "[2356.53454163]\n",
      "Initial loss 119.052939475831\n",
      "2356.5345416305927\n"
     ]
    }
   ],
   "source": [
    "# initial conditions\n",
    "x0 = np.zeros(1)\n",
    "x0[0] = p_opt[3]\n",
    "print(x0)\n",
    "\n",
    "roV=[]\n",
    "losV=[]\n",
    "roV_=[]\n",
    "losV_=[]\n",
    "opt_loss=objective_fixed(x0)\n",
    "print('Initial loss ' + str(objective_fixed(x0)))\n",
    "print(x0[0])\n",
    "for i in range(90):\n",
    "  x0[0]=x0[0]+2*i\n",
    "  # print('Initial loss ' + str(objective_fixed(x0)))\n",
    "  # print(x0[0])\n",
    "  roV.append(x0[0])\n",
    "  losV.append(objective_fixed(x0))\n",
    "  x0[0]=p_opt[3]\n",
    "x0[0]= p_opt[3] \n",
    "for i in range(155):  \n",
    "  x0[0]=x0[0]-2*i\n",
    "  # print('Initial loss ' + str(objective_fixed(x0)))\n",
    "  # print(x0[0])\n",
    "  roV_.append(x0[0])\n",
    "  losV_.append(objective_fixed(x0))\n",
    "  x0[0]=p_opt[3]"
   ]
  },
  {
   "cell_type": "code",
   "execution_count": 0,
   "metadata": {
    "colab": {},
    "colab_type": "code",
    "id": "JhAB_rwhCUkT"
   },
   "outputs": [],
   "source": [
    "roV_.reverse()\n",
    "losV_.reverse()"
   ]
  },
  {
   "cell_type": "code",
   "execution_count": 0,
   "metadata": {
    "colab": {},
    "colab_type": "code",
    "id": "JQIv1XAm_-SJ"
   },
   "outputs": [],
   "source": [
    "roVsum=roV_+roV\n",
    "maxi=[right_lim]*len(roVsum)\n",
    "opti=[opt_loss]*len(roVsum)\n",
    "mini=[left_lim]*len(roVsum)"
   ]
  },
  {
   "cell_type": "code",
   "execution_count": 152,
   "metadata": {
    "colab": {
     "base_uri": "https://localhost:8080/",
     "height": 315
    },
    "colab_type": "code",
    "executionInfo": {
     "elapsed": 4004,
     "status": "ok",
     "timestamp": 1592129228635,
     "user": {
      "displayName": "Ванесса Валерьевна Склярова",
      "photoUrl": "",
      "userId": "10835864845436142939"
     },
     "user_tz": -180
    },
    "id": "ULAqeUqr-tF8",
    "outputId": "ddba4fee-a4b8-4326-87b7-acff9e91b9b0"
   },
   "outputs": [
    {
     "data": {
      "text/plain": [
       "Text(0.5, 1.0, 'доверительные интервалы для ro_V')"
      ]
     },
     "execution_count": 152,
     "metadata": {
      "tags": []
     },
     "output_type": "execute_result"
    },
    {
     "data": {
      "image/png": "[encoded data removed]",
      "text/plain": [
       "<Figure size 432x288 with 1 Axes>"
      ]
     },
     "metadata": {
      "needs_background": "light",
      "tags": []
     },
     "output_type": "display_data"
    }
   ],
   "source": [
    "plt.plot(roV_+roV,losV_+losV , label='loss_function')\n",
    "plt.plot(roV_+roV, maxi, ':', label=r'max')\n",
    "plt.plot(roV_+roV, mini, ':', label=r'min')\n",
    "plt.plot(roV_+roV, opti, 'r', label=r'optimal')\n",
    "plt.grid()\n",
    "plt.legend(loc='best')\n",
    "plt.xlabel('ro_V')\n",
    "plt.ylabel('loss_function')\n",
    "plt.title('доверительные интервалы для ro_V')"
   ]
  },
  {
   "cell_type": "code",
   "execution_count": 174,
   "metadata": {
    "colab": {
     "base_uri": "https://localhost:8080/",
     "height": 73
    },
    "colab_type": "code",
    "executionInfo": {
     "elapsed": 795,
     "status": "ok",
     "timestamp": 1592129436263,
     "user": {
      "displayName": "Ванесса Валерьевна Склярова",
      "photoUrl": "",
      "userId": "10835864845436142939"
     },
     "user_tz": -180
    },
    "id": "2OYHhBGWL9YY",
    "outputId": "9f6d312d-f995-4737-a3f9-c4a7c3370b89"
   },
   "outputs": [
    {
     "name": "stdout",
     "output_type": "stream",
     "text": [
      "[2356.53454163]\n",
      "Initial loss 119.052939475831\n",
      "Initial loss 147.60505796767382\n"
     ]
    }
   ],
   "source": [
    "# x0 = np.zeros(1)\n",
    "# x0[0] = p_opt[3]\n",
    "# print(x0)\n",
    "# roV=[]\n",
    "# losV=[]\n",
    "# roV_=[]\n",
    "# losV_=[]\n",
    "# opt_loss=objective_fixed(x0)\n",
    "# print('Initial loss ' + str(objective_fixed(x0)))\n",
    "# x0[0]=2059.29\n",
    "# opt_loss=objective_fixed(x0)\n",
    "# print('Initial loss ' + str(objective_fixed(x0)))"
   ]
  },
  {
   "cell_type": "code",
   "execution_count": null,
   "metadata": {},
   "outputs": [],
   "source": [
    "print(left_lim, right_lim)"
   ]
  },
  {
   "cell_type": "code",
   "execution_count": 0,
   "metadata": {
    "colab": {},
    "colab_type": "code",
    "id": "HusBnI6AeJbu"
   },
   "outputs": [],
   "source": []
  }
 ],
 "metadata": {
  "colab": {
   "authorship_tag": "ABX9TyPETm8vTK3xs6O5vZwChcSX",
   "collapsed_sections": [],
   "name": "Profile likelihood.ipynb",
   "provenance": []
  },
  "kernelspec": {
   "display_name": "Python 3",
   "language": "python",
   "name": "python3"
  },
  "language_info": {
   "codemirror_mode": {
    "name": "ipython",
    "version": 3
   },
   "file_extension": ".py",
   "mimetype": "text/x-python",
   "name": "python",
   "nbconvert_exporter": "python",
   "pygments_lexer": "ipython3",
   "version": "3.6.9"
  }
 },
 "nbformat": 4,
 "nbformat_minor": 1
}
